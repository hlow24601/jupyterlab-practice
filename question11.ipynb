{
 "cells": [
  {
   "cell_type": "markdown",
   "id": "810385af-216b-4be7-8d92-f6653754688c",
   "metadata": {},
   "source": [
    "# Hilary Low\n",
    "Notebook for assignment 7\n"
   ]
  },
  {
   "cell_type": "code",
   "execution_count": 1,
   "id": "30d140bd-d0a2-4db5-aa35-a9e49b80a108",
   "metadata": {},
   "outputs": [],
   "source": [
    "import numpy as np"
   ]
  },
  {
   "cell_type": "code",
   "execution_count": 2,
   "id": "c1da5f58-d7fe-4797-aebf-c74f0d0712c2",
   "metadata": {},
   "outputs": [],
   "source": [
    "def compute_mean(numerical_list):\n",
    "    mean_of_list = np.mean(numerical_list)\n",
    "    return mean_of_list\n",
    "    "
   ]
  },
  {
   "cell_type": "code",
   "execution_count": 3,
   "id": "aa2ce093-1eae-4d4d-a923-e722c61f4111",
   "metadata": {},
   "outputs": [
    {
     "data": {
      "text/plain": [
       "5.0"
      ]
     },
     "execution_count": 3,
     "metadata": {},
     "output_type": "execute_result"
    }
   ],
   "source": [
    "compute_mean([2,4,6,8])"
   ]
  },
  {
   "cell_type": "markdown",
   "id": "edc8d797-c743-4621-b0e6-0a5ba924d285",
   "metadata": {},
   "source": [
    "The code for the function, compute_mean, calculates the mean of each item of the list inputted. The mean is calculated in this manner:\n",
    "\n",
    "x\\hat{^} = \\left( \\fract{x_{1} + x_{2} + x_{3}...x_{n}}{n} \\right) = \\frac{1}{2}\n",
    "\n"
   ]
  },
  {
   "cell_type": "code",
   "execution_count": null,
   "id": "0cb7561b-1cb2-4cc2-95a0-98e6abcc2870",
   "metadata": {},
   "outputs": [],
   "source": []
  }
 ],
 "metadata": {
  "kernelspec": {
   "display_name": "Python [conda env:base] *",
   "language": "python",
   "name": "conda-base-py"
  },
  "language_info": {
   "codemirror_mode": {
    "name": "ipython",
    "version": 3
   },
   "file_extension": ".py",
   "mimetype": "text/x-python",
   "name": "python",
   "nbconvert_exporter": "python",
   "pygments_lexer": "ipython3",
   "version": "3.12.3"
  }
 },
 "nbformat": 4,
 "nbformat_minor": 5
}
